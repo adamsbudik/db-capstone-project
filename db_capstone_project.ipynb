{
 "cells": [
  {
   "cell_type": "code",
   "execution_count": 15,
   "id": "9db4b64e-0d00-46e7-9ff7-06ea2d3c6397",
   "metadata": {},
   "outputs": [
    {
     "name": "stdout",
     "output_type": "stream",
     "text": [
      "Requirement already satisfied: mysql-connector-python in c:\\users\\timburrs\\appdata\\local\\programs\\python\\python311\\lib\\site-packages (8.1.0)\n",
      "Requirement already satisfied: protobuf<=4.21.12,>=4.21.1 in c:\\users\\timburrs\\appdata\\local\\programs\\python\\python311\\lib\\site-packages (from mysql-connector-python) (4.21.12)\n",
      "Note: you may need to restart the kernel to use updated packages.\n"
     ]
    }
   ],
   "source": [
    "%pip install mysql-connector-python\n",
    "import mysql.connector as connector"
   ]
  },
  {
   "cell_type": "code",
   "execution_count": 30,
   "id": "4ff13c2d-1f03-413a-a343-bd598d07ec96",
   "metadata": {},
   "outputs": [],
   "source": [
    "# Establish connection to the database.\n",
    "connection = connector.connect(user = \"root\", password = \"password1234\", db = \"littlelemondb\")\n",
    "\n",
    "# Instantiate a cursor object\n",
    "cursor = connection.cursor()"
   ]
  },
  {
   "cell_type": "code",
   "execution_count": 31,
   "id": "4818f49c-61dc-4770-84a0-85807370ccb7",
   "metadata": {},
   "outputs": [
    {
     "name": "stdout",
     "output_type": "stream",
     "text": [
      "('bookings',)\n",
      "('customers',)\n",
      "('highcostordersview',)\n",
      "('menu',)\n",
      "('menuitemshighvolumeview',)\n",
      "('orders',)\n",
      "('orders_delivery_status',)\n",
      "('ordersview',)\n",
      "('results',)\n",
      "('staff',)\n"
     ]
    }
   ],
   "source": [
    "# Show all tables in the database\n",
    "query_show_tables = \"\"\"\n",
    "show tables;\n",
    "\"\"\"\n",
    "\n",
    "cursor.execute(query_show_tables)\n",
    "results = cursor.fetchall()\n",
    "for result in results:\n",
    "    print(result)"
   ]
  },
  {
   "cell_type": "code",
   "execution_count": 33,
   "id": "a8031121-59c7-4547-8a94-f802c2d15c19",
   "metadata": {},
   "outputs": [],
   "source": [
    "# Little Lemon need you to return specific details from your database. They require the full name and \n",
    "# contact details for every customer that has placed an order greater than $60 for a promotional campaign. \n",
    "query_customer_exceed_totalcost = \"\"\"\n",
    "select\n",
    "    customers.customer_name, \n",
    "    customers.contact_number,\n",
    "    orders.total_cost\n",
    "from orders\n",
    "left join customers\n",
    "    on orders.customer_id = customers.customer_id\n",
    "where orders.total_cost > 60;\n",
    "\"\"\"\n",
    "\n",
    "cursor.execute(query_customer_exceed_totalcost)\n",
    "results = cursor.fetchall()\n",
    "for result in results:\n",
    "    print(result)"
   ]
  },
  {
   "cell_type": "code",
   "execution_count": 28,
   "id": "7ab363a8-7aa8-4532-92fa-29d99e258b30",
   "metadata": {},
   "outputs": [],
   "source": [
    "# Close cursor and connection\n",
    "cursor.close()\n",
    "connection.close()"
   ]
  },
  {
   "cell_type": "code",
   "execution_count": null,
   "id": "7a047803-1527-4e1a-bf9a-ba3021c6aee9",
   "metadata": {},
   "outputs": [],
   "source": []
  }
 ],
 "metadata": {
  "kernelspec": {
   "display_name": "Python 3 (ipykernel)",
   "language": "python",
   "name": "python3"
  },
  "language_info": {
   "codemirror_mode": {
    "name": "ipython",
    "version": 3
   },
   "file_extension": ".py",
   "mimetype": "text/x-python",
   "name": "python",
   "nbconvert_exporter": "python",
   "pygments_lexer": "ipython3",
   "version": "3.11.5"
  }
 },
 "nbformat": 4,
 "nbformat_minor": 5
}
